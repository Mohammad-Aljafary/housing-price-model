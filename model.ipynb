{
 "cells": [
  {
   "cell_type": "code",
   "execution_count": null,
   "id": "957c1e03",
   "metadata": {},
   "outputs": [],
   "source": [
    "import pandas as pd\n",
    "import numpy as np\n",
    "import matplotlib.pyplot as plt\n",
    "from matplotlib import cm\n",
    "from matplotlib.colors import Normalize\n",
    "from matplotlib.ticker import ScalarFormatter\n"
   ]
  },
  {
   "cell_type": "code",
   "execution_count": null,
   "id": "ba8f6e04",
   "metadata": {},
   "outputs": [
    {
     "name": "stdout",
     "output_type": "stream",
     "text": [
      "Path to dataset files: /home/mohammad-boom/.cache/kagglehub/datasets/prevek18/ames-housing-dataset/versions/1\n"
     ]
    }
   ],
   "source": [
    "# Install dependencies as needed:\n",
    "# pip install kagglehub[pandas-datasets]\n",
    "import kagglehub\n",
    "\n",
    "# Download latest version\n",
    "path = kagglehub.dataset_download(\"prevek18/ames-housing-dataset\")\n",
    "\n",
    "print(\"Path to dataset files:\", path)\n",
    "# Load the training data"
   ]
  },
  {
   "cell_type": "code",
   "execution_count": 15,
   "id": "f03ddcb3",
   "metadata": {},
   "outputs": [
    {
     "name": "stdout",
     "output_type": "stream",
     "text": [
      "Loaded training data with shape: (2930, 82)\n"
     ]
    }
   ],
   "source": [
    "df = pd.read_csv(f\"{path}/AmesHousing.csv\")\n",
    "print(\"Loaded training data with shape:\", df.shape)"
   ]
  }
 ],
 "metadata": {
  "kernelspec": {
   "display_name": ".venv",
   "language": "python",
   "name": "python3"
  },
  "language_info": {
   "codemirror_mode": {
    "name": "ipython",
    "version": 3
   },
   "file_extension": ".py",
   "mimetype": "text/x-python",
   "name": "python",
   "nbconvert_exporter": "python",
   "pygments_lexer": "ipython3",
   "version": "3.12.3"
  }
 },
 "nbformat": 4,
 "nbformat_minor": 5
}
